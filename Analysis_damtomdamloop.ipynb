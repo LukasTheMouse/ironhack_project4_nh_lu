{
 "cells": [
  {
   "cell_type": "code",
   "execution_count": 24,
   "metadata": {},
   "outputs": [],
   "source": [
    "#importing libraries\n",
    "import pandas as pd\n",
    "import numpy as np\n",
    "import seaborn as sns\n",
    "import matplotlib.pyplot as plt\n",
    "from scipy import stats\n",
    "import scipy.stats as stats\n",
    "from scipy.stats import ttest_1samp\n",
    "from scipy.stats import t"
   ]
  },
  {
   "cell_type": "markdown",
   "metadata": {},
   "source": [
    "### Exploring the Data"
   ]
  },
  {
   "cell_type": "code",
   "execution_count": 25,
   "metadata": {},
   "outputs": [],
   "source": [
    "#importing the data\n",
    "data_business = pd.read_csv(\"businessdamtotdamloopdata.csv\").drop(columns=['Unnamed: 0', 'Unnamed: 0.1'])"
   ]
  },
  {
   "cell_type": "code",
   "execution_count": 26,
   "metadata": {},
   "outputs": [],
   "source": [
    "#extracting data for top 3  professional Companies\n",
    "Proffesional_services_companies=['Deloitte', 'KPMG','PwC']\n",
    "data_business['Proffesional_services_companies_name'] = data_business['company'].str.extract(f\"({'|'.join(Proffesional_services_companies)})\")"
   ]
  },
  {
   "cell_type": "code",
   "execution_count": 27,
   "metadata": {},
   "outputs": [],
   "source": [
    "#ignoring data with missing values\n",
    "Prof_services_co =  data_business[data_business['Proffesional_services_companies_name'].isnull() == False]"
   ]
  },
  {
   "cell_type": "code",
   "execution_count": 28,
   "metadata": {},
   "outputs": [
    {
     "data": {
      "text/html": [
       "<div>\n",
       "<style scoped>\n",
       "    .dataframe tbody tr th:only-of-type {\n",
       "        vertical-align: middle;\n",
       "    }\n",
       "\n",
       "    .dataframe tbody tr th {\n",
       "        vertical-align: top;\n",
       "    }\n",
       "\n",
       "    .dataframe thead th {\n",
       "        text-align: right;\n",
       "    }\n",
       "</style>\n",
       "<table border=\"1\" class=\"dataframe\">\n",
       "  <thead>\n",
       "    <tr style=\"text-align: right;\">\n",
       "      <th></th>\n",
       "      <th>sex</th>\n",
       "      <th>city</th>\n",
       "      <th>company</th>\n",
       "      <th>guntime</th>\n",
       "      <th>realtime</th>\n",
       "      <th>BIB</th>\n",
       "      <th>year</th>\n",
       "      <th>guntime_in_second</th>\n",
       "      <th>realtime_in_second</th>\n",
       "      <th>speed</th>\n",
       "      <th>province</th>\n",
       "      <th>diff_gun_realtime</th>\n",
       "      <th>speed_buckets</th>\n",
       "      <th>Proffesional_services_companies_name</th>\n",
       "    </tr>\n",
       "  </thead>\n",
       "  <tbody>\n",
       "    <tr>\n",
       "      <th>41</th>\n",
       "      <td>Male</td>\n",
       "      <td>unknown</td>\n",
       "      <td>KPMG 33</td>\n",
       "      <td>01:04:01</td>\n",
       "      <td>01:04:01</td>\n",
       "      <td>24969</td>\n",
       "      <td>2016</td>\n",
       "      <td>3841.0</td>\n",
       "      <td>3841.0</td>\n",
       "      <td>15.029836</td>\n",
       "      <td>Other location</td>\n",
       "      <td>0.0</td>\n",
       "      <td>15-17</td>\n",
       "      <td>KPMG</td>\n",
       "    </tr>\n",
       "    <tr>\n",
       "      <th>47</th>\n",
       "      <td>Male</td>\n",
       "      <td>unknown</td>\n",
       "      <td>PwC 7</td>\n",
       "      <td>01:04:17</td>\n",
       "      <td>01:04:17</td>\n",
       "      <td>20765</td>\n",
       "      <td>2016</td>\n",
       "      <td>3857.0</td>\n",
       "      <td>3857.0</td>\n",
       "      <td>14.967488</td>\n",
       "      <td>Other location</td>\n",
       "      <td>0.0</td>\n",
       "      <td>15-17</td>\n",
       "      <td>PwC</td>\n",
       "    </tr>\n",
       "    <tr>\n",
       "      <th>53</th>\n",
       "      <td>Male</td>\n",
       "      <td>unknown</td>\n",
       "      <td>Deloitte 2</td>\n",
       "      <td>01:04:35</td>\n",
       "      <td>01:04:35</td>\n",
       "      <td>18602</td>\n",
       "      <td>2016</td>\n",
       "      <td>3875.0</td>\n",
       "      <td>3875.0</td>\n",
       "      <td>14.897961</td>\n",
       "      <td>Other location</td>\n",
       "      <td>0.0</td>\n",
       "      <td>15-17</td>\n",
       "      <td>Deloitte</td>\n",
       "    </tr>\n",
       "    <tr>\n",
       "      <th>54</th>\n",
       "      <td>Male</td>\n",
       "      <td>unknown</td>\n",
       "      <td>Deloitte 12 Hospitality</td>\n",
       "      <td>01:04:40</td>\n",
       "      <td>01:04:40</td>\n",
       "      <td>18560</td>\n",
       "      <td>2016</td>\n",
       "      <td>3880.0</td>\n",
       "      <td>3880.0</td>\n",
       "      <td>14.878763</td>\n",
       "      <td>Other location</td>\n",
       "      <td>0.0</td>\n",
       "      <td>15-17</td>\n",
       "      <td>Deloitte</td>\n",
       "    </tr>\n",
       "    <tr>\n",
       "      <th>192</th>\n",
       "      <td>Male</td>\n",
       "      <td>unknown</td>\n",
       "      <td>KPMG 2</td>\n",
       "      <td>01:08:10</td>\n",
       "      <td>01:08:10</td>\n",
       "      <td>24818</td>\n",
       "      <td>2016</td>\n",
       "      <td>4090.0</td>\n",
       "      <td>4090.0</td>\n",
       "      <td>14.114817</td>\n",
       "      <td>Other location</td>\n",
       "      <td>0.0</td>\n",
       "      <td>15-17</td>\n",
       "      <td>KPMG</td>\n",
       "    </tr>\n",
       "  </tbody>\n",
       "</table>\n",
       "</div>"
      ],
      "text/plain": [
       "      sex     city                  company   guntime  realtime    BIB  year  \\\n",
       "41   Male  unknown                  KPMG 33  01:04:01  01:04:01  24969  2016   \n",
       "47   Male  unknown                    PwC 7  01:04:17  01:04:17  20765  2016   \n",
       "53   Male  unknown               Deloitte 2  01:04:35  01:04:35  18602  2016   \n",
       "54   Male  unknown  Deloitte 12 Hospitality  01:04:40  01:04:40  18560  2016   \n",
       "192  Male  unknown                   KPMG 2  01:08:10  01:08:10  24818  2016   \n",
       "\n",
       "     guntime_in_second  realtime_in_second      speed        province  \\\n",
       "41              3841.0              3841.0  15.029836  Other location   \n",
       "47              3857.0              3857.0  14.967488  Other location   \n",
       "53              3875.0              3875.0  14.897961  Other location   \n",
       "54              3880.0              3880.0  14.878763  Other location   \n",
       "192             4090.0              4090.0  14.114817  Other location   \n",
       "\n",
       "     diff_gun_realtime speed_buckets Proffesional_services_companies_name  \n",
       "41                 0.0         15-17                                 KPMG  \n",
       "47                 0.0         15-17                                  PwC  \n",
       "53                 0.0         15-17                             Deloitte  \n",
       "54                 0.0         15-17                             Deloitte  \n",
       "192                0.0         15-17                                 KPMG  "
      ]
     },
     "execution_count": 28,
     "metadata": {},
     "output_type": "execute_result"
    }
   ],
   "source": [
    "Prof_services_co.head()"
   ]
  },
  {
   "cell_type": "code",
   "execution_count": 29,
   "metadata": {},
   "outputs": [],
   "source": [
    "#extracting data for top 3 Banks \n",
    "Banks=['Rabobank', 'ABN AMRO','ING']\n",
    "data_business['Bank_names'] = data_business['company'].str.extract(f\"({'|'.join(Banks)})\")"
   ]
  },
  {
   "cell_type": "code",
   "execution_count": 30,
   "metadata": {},
   "outputs": [],
   "source": [
    "#ignoring data with missing values\n",
    "Banks_data =  data_business[data_business['Bank_names'].isnull() == False]"
   ]
  },
  {
   "cell_type": "code",
   "execution_count": 31,
   "metadata": {},
   "outputs": [],
   "source": [
    "#ignoring data with missing values\n",
    "Banks_data =  data_business[data_business['Bank_names'].isnull() == False]"
   ]
  },
  {
   "cell_type": "code",
   "execution_count": 32,
   "metadata": {},
   "outputs": [
    {
     "data": {
      "text/html": [
       "<div>\n",
       "<style scoped>\n",
       "    .dataframe tbody tr th:only-of-type {\n",
       "        vertical-align: middle;\n",
       "    }\n",
       "\n",
       "    .dataframe tbody tr th {\n",
       "        vertical-align: top;\n",
       "    }\n",
       "\n",
       "    .dataframe thead th {\n",
       "        text-align: right;\n",
       "    }\n",
       "</style>\n",
       "<table border=\"1\" class=\"dataframe\">\n",
       "  <thead>\n",
       "    <tr style=\"text-align: right;\">\n",
       "      <th></th>\n",
       "      <th>sex</th>\n",
       "      <th>city</th>\n",
       "      <th>company</th>\n",
       "      <th>guntime</th>\n",
       "      <th>realtime</th>\n",
       "      <th>BIB</th>\n",
       "      <th>year</th>\n",
       "      <th>guntime_in_second</th>\n",
       "      <th>realtime_in_second</th>\n",
       "      <th>speed</th>\n",
       "      <th>province</th>\n",
       "      <th>diff_gun_realtime</th>\n",
       "      <th>speed_buckets</th>\n",
       "      <th>Proffesional_services_companies_name</th>\n",
       "      <th>Bank_names</th>\n",
       "    </tr>\n",
       "  </thead>\n",
       "  <tbody>\n",
       "    <tr>\n",
       "      <th>257</th>\n",
       "      <td>Male</td>\n",
       "      <td>unknown</td>\n",
       "      <td>ABN AMRO IT Helden 1</td>\n",
       "      <td>01:09:02</td>\n",
       "      <td>01:09:02</td>\n",
       "      <td>33493</td>\n",
       "      <td>2016</td>\n",
       "      <td>4142.0</td>\n",
       "      <td>4142.0</td>\n",
       "      <td>13.937615</td>\n",
       "      <td>Other location</td>\n",
       "      <td>0.0</td>\n",
       "      <td>12-14</td>\n",
       "      <td>NaN</td>\n",
       "      <td>ABN AMRO</td>\n",
       "    </tr>\n",
       "    <tr>\n",
       "      <th>286</th>\n",
       "      <td>Male</td>\n",
       "      <td>unknown</td>\n",
       "      <td>ABN AMRO IT Helden 1</td>\n",
       "      <td>01:09:19</td>\n",
       "      <td>01:09:19</td>\n",
       "      <td>33491</td>\n",
       "      <td>2016</td>\n",
       "      <td>4159.0</td>\n",
       "      <td>4159.0</td>\n",
       "      <td>13.880644</td>\n",
       "      <td>Other location</td>\n",
       "      <td>0.0</td>\n",
       "      <td>12-14</td>\n",
       "      <td>NaN</td>\n",
       "      <td>ABN AMRO</td>\n",
       "    </tr>\n",
       "    <tr>\n",
       "      <th>305</th>\n",
       "      <td>Male</td>\n",
       "      <td>unknown</td>\n",
       "      <td>ING Runners 3</td>\n",
       "      <td>01:09:33</td>\n",
       "      <td>01:09:33</td>\n",
       "      <td>24637</td>\n",
       "      <td>2016</td>\n",
       "      <td>4173.0</td>\n",
       "      <td>4173.0</td>\n",
       "      <td>13.834076</td>\n",
       "      <td>Other location</td>\n",
       "      <td>0.0</td>\n",
       "      <td>12-14</td>\n",
       "      <td>NaN</td>\n",
       "      <td>ING</td>\n",
       "    </tr>\n",
       "    <tr>\n",
       "      <th>358</th>\n",
       "      <td>Male</td>\n",
       "      <td>unknown</td>\n",
       "      <td>ING Omnichannel 2</td>\n",
       "      <td>01:10:01</td>\n",
       "      <td>01:10:01</td>\n",
       "      <td>35926</td>\n",
       "      <td>2016</td>\n",
       "      <td>4201.0</td>\n",
       "      <td>4201.0</td>\n",
       "      <td>13.741871</td>\n",
       "      <td>Other location</td>\n",
       "      <td>0.0</td>\n",
       "      <td>12-14</td>\n",
       "      <td>NaN</td>\n",
       "      <td>ING</td>\n",
       "    </tr>\n",
       "    <tr>\n",
       "      <th>470</th>\n",
       "      <td>Male</td>\n",
       "      <td>unknown</td>\n",
       "      <td>Rabobank Amsterdam 4</td>\n",
       "      <td>01:10:48</td>\n",
       "      <td>01:10:48</td>\n",
       "      <td>27302</td>\n",
       "      <td>2016</td>\n",
       "      <td>4248.0</td>\n",
       "      <td>4248.0</td>\n",
       "      <td>13.589831</td>\n",
       "      <td>Other location</td>\n",
       "      <td>0.0</td>\n",
       "      <td>12-14</td>\n",
       "      <td>NaN</td>\n",
       "      <td>Rabobank</td>\n",
       "    </tr>\n",
       "  </tbody>\n",
       "</table>\n",
       "</div>"
      ],
      "text/plain": [
       "      sex     city               company   guntime  realtime    BIB  year  \\\n",
       "257  Male  unknown  ABN AMRO IT Helden 1  01:09:02  01:09:02  33493  2016   \n",
       "286  Male  unknown  ABN AMRO IT Helden 1  01:09:19  01:09:19  33491  2016   \n",
       "305  Male  unknown         ING Runners 3  01:09:33  01:09:33  24637  2016   \n",
       "358  Male  unknown     ING Omnichannel 2  01:10:01  01:10:01  35926  2016   \n",
       "470  Male  unknown  Rabobank Amsterdam 4  01:10:48  01:10:48  27302  2016   \n",
       "\n",
       "     guntime_in_second  realtime_in_second      speed        province  \\\n",
       "257             4142.0              4142.0  13.937615  Other location   \n",
       "286             4159.0              4159.0  13.880644  Other location   \n",
       "305             4173.0              4173.0  13.834076  Other location   \n",
       "358             4201.0              4201.0  13.741871  Other location   \n",
       "470             4248.0              4248.0  13.589831  Other location   \n",
       "\n",
       "     diff_gun_realtime speed_buckets Proffesional_services_companies_name  \\\n",
       "257                0.0         12-14                                  NaN   \n",
       "286                0.0         12-14                                  NaN   \n",
       "305                0.0         12-14                                  NaN   \n",
       "358                0.0         12-14                                  NaN   \n",
       "470                0.0         12-14                                  NaN   \n",
       "\n",
       "    Bank_names  \n",
       "257   ABN AMRO  \n",
       "286   ABN AMRO  \n",
       "305        ING  \n",
       "358        ING  \n",
       "470   Rabobank  "
      ]
     },
     "execution_count": 32,
     "metadata": {},
     "output_type": "execute_result"
    }
   ],
   "source": [
    "#getting a glimpse of the data\n",
    "Banks_data.head()"
   ]
  },
  {
   "cell_type": "markdown",
   "metadata": {},
   "source": [
    "### Constructing Confidence intervals\n",
    "While testing our hypothesis is a great way to gather empirical evidence for accepting or rejecting the hypothesis, another way to gather evidence is by creating a confidence interval. A confidence interval gives us information about the true mean of the population. So for a 95% confidence interval, we are 95% sure that the mean of the population is within the confidence interval.\n",
    "\n",
    "In the cell below, we will construct a 95% confidence interval for the mean speed of both proffessional company runners and runners from the Banks\n"
   ]
  },
  {
   "cell_type": "code",
   "execution_count": 33,
   "metadata": {},
   "outputs": [
    {
     "name": "stdout",
     "output_type": "stream",
     "text": [
      "The 95% confidence interval for all runners from the Banks lies between 10.678 and 10.831\n",
      "The 95% confidence interval for all runners from the Professional Companies lies between 10.891 and 11.024\n"
     ]
    }
   ],
   "source": [
    "# Your code here:\n",
    "\n",
    "Speed_bankers = Banks_data['speed']\n",
    "Speed_proffessionals = Prof_services_co['speed']\n",
    "\n",
    "# computing Confidence intervals for runners from the Banks\n",
    "\n",
    "alpha = 0.95\n",
    "dof = len(Speed_bankers) - 1\n",
    "mean= Speed_bankers.mean()\n",
    "std = stats.sem(Speed_bankers)\n",
    "interval = t.interval(alpha, dof, mean, std)\n",
    "print(\"The 95% confidence interval for all runners from the Banks lies between\", round(interval[0],3), \"and\", round(interval[1],3))\n",
    "\n",
    "# computing Confidence intervals for runners from the professional Companies Runners\n",
    "\n",
    "alpha = 0.95\n",
    "dof_prof = len(Speed_proffessionals) - 1\n",
    "mean_prof= Speed_proffessionals.mean()\n",
    "std_prof = stats.sem(Speed_proffessionals)\n",
    "interval = t.interval(alpha, dof_prof, mean_prof, std_prof)\n",
    "print(\"The 95% confidence interval for all runners from the Professional Companies lies between\", round(interval[0],3), \"and\", round(interval[1],3))\n",
    "\n"
   ]
  },
  {
   "cell_type": "code",
   "execution_count": 34,
   "metadata": {},
   "outputs": [
    {
     "name": "stdout",
     "output_type": "stream",
     "text": [
      "Mean speed of runners from Banks : 10.75 Mean speed of runners from Professional Services: 10.96\n"
     ]
    }
   ],
   "source": [
    "#calculating Actual Mean of runners\n",
    "print('Mean speed of runners from Banks : {0:.2f}'.format(Banks_data['speed'].mean()),\n",
    "      'Mean speed of runners from Professional Services: {0:.2f}'.format(\n",
    "      Prof_services_co['speed'].mean()))"
   ]
  },
  {
   "cell_type": "markdown",
   "metadata": {},
   "source": [
    "### Hypothesis Tests"
   ]
  },
  {
   "cell_type": "code",
   "execution_count": 35,
   "metadata": {},
   "outputs": [
    {
     "name": "stdout",
     "output_type": "stream",
     "text": [
      "p-value:  8.794592915762446e-05\n",
      "We reject the hypothesis that mean speed of runners from the Banks are the same as mean speed of runners from the Proffessional Companies\n"
     ]
    }
   ],
   "source": [
    "'''\n",
    "Hypothesis 0:  Mean speed  runners from Banks = Mean speed  runners from Professional Services\n",
    "Hypothesis 1:  Mean speed  runners from Banks != Mean speed  runners from Professional Services\n",
    "'''\n",
    "\n",
    "t, p = stats.ttest_ind(Banks_data['speed'],Prof_services_co['speed'], equal_var = False)\n",
    "\n",
    "alpha = 0.05\n",
    "\n",
    "t, p = stats.ttest_ind(Banks_data['speed'],Prof_services_co['speed'], equal_var = False)\n",
    "\n",
    "print(\"p-value: \",p)\n",
    "\n",
    "if p<0.05:\n",
    "    print('We reject the hypothesis that mean speed of runners from the Banks are the same as mean speed of runners from the Proffessional Companies')\n",
    "else:\n",
    "    print('We cannot reject  the hypothesis that mean speed of runners from the Banks are the same as mean speed of runners from the Proffessional Companies')"
   ]
  },
  {
   "cell_type": "code",
   "execution_count": 36,
   "metadata": {},
   "outputs": [
    {
     "data": {
      "image/png": "[encoded data removed]",
      "text/plain": [
       "<Figure size 936x720 with 1 Axes>"
      ]
     },
     "metadata": {},
     "output_type": "display_data"
    },
    {
     "data": {
      "text/plain": [
       "''"
      ]
     },
     "execution_count": 36,
     "metadata": {},
     "output_type": "execute_result"
    }
   ],
   "source": [
    "#plotting Speeds of both runners from Banks And Proffessional runners\n",
    "sns.set(rc={'figure.figsize':(13,10)})\n",
    "sns.color_palette(\"Paired\")\n",
    "sns.distplot(Banks_data['speed'],label='Speed of Runners from Banks',kde=False,color=\"royalblue\")\n",
    "sns.distplot(Prof_services_co['speed'],label='Speed of Proffesional Company Runners',kde=False,color=\"tomato\")\n",
    "plt.title(' Speed of Runners from Banks vs Speed of Proffesional Company Runners')\n",
    "plt.xlabel('speed km/h')\n",
    "plt.legend()\n",
    "plt.ylabel('Runners')\n",
    "plt.show()\n",
    ";"
   ]
  },
  {
   "cell_type": "code",
   "execution_count": null,
   "metadata": {},
   "outputs": [],
   "source": []
  },
  {
   "cell_type": "code",
   "execution_count": null,
   "metadata": {},
   "outputs": [],
   "source": [
    "\n"
   ]
  }
 ],
 "metadata": {
  "kernelspec": {
   "display_name": "Python 3",
   "language": "python",
   "name": "python3"
  },
  "language_info": {
   "codemirror_mode": {
    "name": "ipython",
    "version": 3
   },
   "file_extension": ".py",
   "mimetype": "text/x-python",
   "name": "python",
   "nbconvert_exporter": "python",
   "pygments_lexer": "ipython3",
   "version": "3.7.6"
  }
 },
 "nbformat": 4,
 "nbformat_minor": 4
}
